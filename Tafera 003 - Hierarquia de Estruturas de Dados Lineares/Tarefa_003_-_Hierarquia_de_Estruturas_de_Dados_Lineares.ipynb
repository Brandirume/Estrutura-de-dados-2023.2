{
 "cells": [
  {
   "cell_type": "markdown",
   "id": "35dd31aa",
   "metadata": {},
   "source": [
    "# Hierarquia de Estruturas de Dados Lineares\n",
    "# \n",
    "#### Douglas Nery, Felipe Cockless, Rumenick Brandi"
   ]
  },
  {
   "cell_type": "code",
   "execution_count": 14,
   "id": "dd0f6398",
   "metadata": {},
   "outputs": [],
   "source": [
    "#Hierarquia de Estruturas de Dados Lineares\n",
    "class HEDL:\n",
    "    def __init__(self,EDL):\n",
    "        self.struct = EDL"
   ]
  },
  {
   "cell_type": "markdown",
   "id": "126a3680",
   "metadata": {},
   "source": [
    "# Array"
   ]
  },
  {
   "cell_type": "code",
   "execution_count": 109,
   "id": "8f762104",
   "metadata": {},
   "outputs": [],
   "source": [
    "class array(HEDL):\n",
    "    def __init__(self,array):\n",
    "        self.array = array\n",
    "        \n",
    "    def __str__(self):\n",
    "        sttr = \"array(\"\n",
    "        lisst = []\n",
    "        for item in self.array:\n",
    "            lisst.append(item)\n",
    "        sttr = sttr+f\"{lisst})\"\n",
    "        return sttr\n",
    "    \n",
    "    def __getitem__(self, index):\n",
    "        return self.array[index]\n",
    "    \n",
    "    def __setitem__(self, index, value):\n",
    "        self.array[index] = value\n",
    "        \n",
    "    def __mul__(self,other):\n",
    "        if type(other) == int or type(other) == float:\n",
    "            return self.__rmul__(other)\n",
    "        if len(self.array) != len(other):\n",
    "            raise ValueError(\"Arrays must have the same length.\")\n",
    "        result = array([item*other[i] for i,item in enumerate(self.array)])\n",
    "        print(result)\n",
    "        \n",
    "    def __rmul__(self,scalar):\n",
    "        result = array([x*scalar for x in self.array])\n",
    "        print(result)\n",
    "    \n",
    "    def __ge__(self,other):\n",
    "        if len(self.array) != len(other):\n",
    "            raise ValueError(\"Arrays must have the same length.\")\n",
    "        result = []\n",
    "        for index,item in enumerate(self.array):\n",
    "            if item >= other[index]:\n",
    "                result.append(True)\n",
    "            else:\n",
    "                result.append(False)\n",
    "        result = array(result)\n",
    "        print(result)\n",
    "        \n",
    "    def __pow__(self,number):\n",
    "        result = array([item**number for item in self.array])\n",
    "        print(result)\n",
    "        \n",
    "    def __len__(self):\n",
    "        return len(self.array)"
   ]
  },
  {
   "cell_type": "code",
   "execution_count": 119,
   "id": "ea239f1f",
   "metadata": {},
   "outputs": [
    {
     "name": "stdout",
     "output_type": "stream",
     "text": [
      "array([True, False, True, True])\n",
      "4 4\n",
      "array([50, 10, 15, 20])\n",
      "array([50, 12, 6, 4])\n",
      "array([100, 4, 9, 16])\n",
      "array([10, 2, 3, 4]) array([5, 6, 2, 1])\n"
     ]
    },
    {
     "data": {
      "text/plain": [
       "True"
      ]
     },
     "execution_count": 119,
     "metadata": {},
     "output_type": "execute_result"
    }
   ],
   "source": [
    "#Test area\n",
    "a = array([1,2,3,4])\n",
    "b = array([5,6,2,1])\n",
    "a[0] = 10\n",
    "a>=b\n",
    "print(len(a),len(b))\n",
    "a*5\n",
    "a*b\n",
    "a**2\n",
    "print(a,b)\n",
    "10 == a[0]"
   ]
  },
  {
   "cell_type": "markdown",
   "id": "b4c948a9",
   "metadata": {},
   "source": [
    "# Lista Encadeada Simples"
   ]
  },
  {
   "cell_type": "code",
   "execution_count": null,
   "id": "2d422fea",
   "metadata": {},
   "outputs": [],
   "source": []
  },
  {
   "cell_type": "markdown",
   "id": "3a7f8b24",
   "metadata": {},
   "source": [
    "# Lista Encadeada Dupla"
   ]
  },
  {
   "cell_type": "code",
   "execution_count": null,
   "id": "93eb4888",
   "metadata": {},
   "outputs": [],
   "source": []
  },
  {
   "cell_type": "markdown",
   "id": "306a6a06",
   "metadata": {},
   "source": [
    "# Lista Circular Encadeada Simples"
   ]
  },
  {
   "cell_type": "code",
   "execution_count": null,
   "id": "0712bc6e",
   "metadata": {},
   "outputs": [],
   "source": []
  },
  {
   "cell_type": "markdown",
   "id": "1ba1861b",
   "metadata": {},
   "source": [
    "# Stack"
   ]
  },
  {
   "cell_type": "code",
   "execution_count": 94,
   "id": "c88ea851",
   "metadata": {},
   "outputs": [
    {
     "data": {
      "text/plain": [
       "'[1, 2, 3]'"
      ]
     },
     "execution_count": 94,
     "metadata": {},
     "output_type": "execute_result"
    }
   ],
   "source": []
  },
  {
   "cell_type": "markdown",
   "id": "36e129fb",
   "metadata": {},
   "source": [
    "# Fila Simples"
   ]
  },
  {
   "cell_type": "code",
   "execution_count": null,
   "id": "3ca39b37",
   "metadata": {},
   "outputs": [],
   "source": []
  }
 ],
 "metadata": {
  "kernelspec": {
   "display_name": "Python 3",
   "language": "python",
   "name": "python3"
  },
  "language_info": {
   "codemirror_mode": {
    "name": "ipython",
    "version": 3
   },
   "file_extension": ".py",
   "mimetype": "text/x-python",
   "name": "python",
   "nbconvert_exporter": "python",
   "pygments_lexer": "ipython3",
   "version": "3.8.8"
  }
 },
 "nbformat": 4,
 "nbformat_minor": 5
}
