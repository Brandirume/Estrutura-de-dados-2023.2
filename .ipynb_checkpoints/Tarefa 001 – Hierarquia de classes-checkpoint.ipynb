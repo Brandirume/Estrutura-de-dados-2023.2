{
 "cells": [
  {
   "cell_type": "markdown",
   "metadata": {
    "id": "XemplKbNmk06"
   },
   "source": [
    "# Bibliotecas"
   ]
  },
  {
   "cell_type": "code",
   "execution_count": 1,
   "metadata": {
    "executionInfo": {
     "elapsed": 10,
     "status": "ok",
     "timestamp": 1696104291401,
     "user": {
      "displayName": "Douglas",
      "userId": "11883696174734801100"
     },
     "user_tz": 180
    },
    "id": "w4SFfO30mMjO"
   },
   "outputs": [],
   "source": [
    "import numpy as np\n",
    "from array import array"
   ]
  },
  {
   "cell_type": "markdown",
   "metadata": {
    "id": "kMbi-eV8mp6e"
   },
   "source": [
    "# Classe Pai"
   ]
  },
  {
   "cell_type": "code",
   "execution_count": 2,
   "metadata": {
    "executionInfo": {
     "elapsed": 9,
     "status": "ok",
     "timestamp": 1696104291401,
     "user": {
      "displayName": "Douglas",
      "userId": "11883696174734801100"
     },
     "user_tz": 180
    },
    "id": "VSHIc7KSmPlW"
   },
   "outputs": [],
   "source": [
    "class EDL:\n",
    "    def __init__(self, matrix):\n",
    "        self.matrix = matrix\n",
    "\n",
    "    def __str__(self):\n",
    "        matrix_str = \"\"\n",
    "        for linha in self.matrix:\n",
    "            matrix_str += \"|\"\n",
    "            for j in linha:\n",
    "                matrix_str += f\" {j:^5}\"\n",
    "            matrix_str += \" |\\n\"\n",
    "        return matrix_str"
   ]
  },
  {
   "cell_type": "markdown",
   "metadata": {
    "id": "Hb6lo9cJmtQ2"
   },
   "source": [
    "# Sub classe EDL - Quadrada"
   ]
  },
  {
   "cell_type": "code",
   "execution_count": 3,
   "metadata": {
    "executionInfo": {
     "elapsed": 10,
     "status": "ok",
     "timestamp": 1696104291402,
     "user": {
      "displayName": "Douglas",
      "userId": "11883696174734801100"
     },
     "user_tz": 180
    },
    "id": "Iu2YlYnkmXZl"
   },
   "outputs": [],
   "source": [
    "class Quadrada(EDL):\n",
    "    def __init__(self, matrix):\n",
    "        super().__init__(matrix)\n",
    "\n",
    "    def __sub__(self,other):\n",
    "        M1 = len(self.matrix) ; M2 = len(other.matrix)\n",
    "        N1 = len(self.matrix[0]) ; N2 = len(other.matrix[0])\n",
    "\n",
    "        if M1 != M2 or N1 != N2:\n",
    "            raise ValueError(\"As matrizes devem ter as mesmas dimensões para a soma.\")\n",
    "\n",
    "        resultado = np.zeros((M1,N1))\n",
    "\n",
    "        for i,_ in enumerate(self.matrix):\n",
    "            for j,_ in enumerate(self.matrix[i]):\n",
    "                soma_elemento = self.matrix[i][j] - other.matrix[i][j]\n",
    "                resultado[i][j] = soma_elemento\n",
    "\n",
    "        return EDL(resultado)\n",
    "\n",
    "    def __add__(self,other):\n",
    "        M1 = len(self.matrix) ; M2 = len(other.matrix)\n",
    "        N1 = len(self.matrix[0]) ; N2 = len(other.matrix[0])\n",
    "\n",
    "        if M1 != M2 or N1 != N2:\n",
    "            raise ValueError(\"As matrizes devem ter as mesmas dimensões para a soma.\")\n",
    "\n",
    "        resultado = np.zeros((M1,N1))\n",
    "\n",
    "        for i,_ in enumerate(self.matrix):\n",
    "            for j,_ in enumerate(self.matrix[i]):\n",
    "                soma_elemento = self.matrix[i][j] + other.matrix[i][j]\n",
    "                resultado[i][j] = soma_elemento\n",
    "\n",
    "        return EDL(resultado)\n",
    "\n",
    "    def __mul__(self,other):\n",
    "        if isinstance(other, (int, float)):\n",
    "            # Se o segundo operando for um número, multiplica todos os elementos da matriz pelo número\n",
    "            resultado = [[elemento * other for elemento in linha] for linha in self.matrix]\n",
    "            return Quadrada(resultado)\n",
    "\n",
    "        M1 = len(self.matrix) ; M2 = len(other.matrix)\n",
    "        N1 = len(self.matrix[0]) ; N2 = len(other.matrix[0])\n",
    "\n",
    "        if M1 != M2 or N1 != N2:\n",
    "            raise ValueError(\"As matrizes devem ter as mesmas dimensões para a soma.\")\n",
    "\n",
    "        resultado = []\n",
    "        for i in range(len(self.matrix)):\n",
    "            linha = []\n",
    "            for j in range(len(other.matrix[0])):\n",
    "                # Realiza a multiplicação elemento a elemento e soma os resultados\n",
    "                produto = 0\n",
    "                for k in range(len(self.matrix[0])):\n",
    "                    produto += self.matrix[i][k] * other.matrix[k][j]\n",
    "                linha.append(produto)\n",
    "            resultado.append(linha)\n",
    "\n",
    "        return Quadrada(resultado)\n",
    "\n",
    "    def __rmul__(self,other): #Just have the scalar multiplication because if \"other\" are a matrix, the __mul__ method is goin to be used\n",
    "        if isinstance(other, (int, float)):\n",
    "            resultado = [[elemento * other for elemento in linha] for linha in self.matrix]\n",
    "            return Quadrada(resultado)\n",
    "\n",
    "    def transposta(self):\n",
    "        num_linhas = len(self.matrix)\n",
    "        num_colunas = len(self.matrix[0])\n",
    "\n",
    "        # Cria uma nova matriz para a transposta\n",
    "        transposta_matrix = [[0.0] * num_linhas for _ in range(num_colunas)]\n",
    "\n",
    "        for i in range(num_linhas):\n",
    "            for j in range(num_colunas):\n",
    "                transposta_matrix[j][i] = self.matrix[i][j]\n",
    "\n",
    "        return Quadrada([array('d', linha) for linha in transposta_matrix])\n",
    "\n",
    "    def traco(self):\n",
    "        if len(self.matrix) != len(self.matrix[0]):\n",
    "            raise ValueError(\"O traço só pode ser calculado para matrizes quadradas.\")\n",
    "\n",
    "        traco = sum(self.matrix[i][i] for i in range(len(self.matrix)))\n",
    "        return traco\n",
    "\n",
    "\n",
    "    def calcular_determinante(self):\n",
    "        return np.linalg.det(self.matrix)\n",
    "\n",
    "    def calcular_inversa(self):\n",
    "        return np.linalg.inv(self.matrix)"
   ]
  },
  {
   "cell_type": "markdown",
   "metadata": {
    "id": "diA093tEm87r"
   },
   "source": [
    "# Sub classe EDL - Triangulares Sup. e Inf.\n"
   ]
  },
  {
   "cell_type": "code",
   "execution_count": 4,
   "metadata": {
    "executionInfo": {
     "elapsed": 10,
     "status": "ok",
     "timestamp": 1696104291402,
     "user": {
      "displayName": "Douglas",
      "userId": "11883696174734801100"
     },
     "user_tz": 180
    },
    "id": "o8nq4si8mfsS"
   },
   "outputs": [],
   "source": [
    "class TriangularSuperior(EDL):\n",
    "    def __init__(self, matrix):\n",
    "        super().__init__(matrix)\n",
    "\n",
    "    def calcular_determinante(self):\n",
    "        pass\n",
    "\n",
    "    def calcular_inversa(self):\n",
    "        pass\n",
    "\n",
    "class TriangularInferior(EDL):\n",
    "    def __init__(self, matrix):\n",
    "        super().__init__(matrix)\n",
    "\n",
    "    def calcular_determinante(self):\n",
    "        pass\n",
    "\n",
    "    def calcular_inversa(self):\n",
    "        pass"
   ]
  },
  {
   "cell_type": "markdown",
   "metadata": {
    "id": "rk9OzPrmnH_b"
   },
   "source": [
    "# Testes"
   ]
  },
  {
   "cell_type": "code",
   "execution_count": 5,
   "metadata": {
    "colab": {
     "base_uri": "https://localhost:8080/"
    },
    "executionInfo": {
     "elapsed": 9,
     "status": "ok",
     "timestamp": 1696104291402,
     "user": {
      "displayName": "Douglas",
      "userId": "11883696174734801100"
     },
     "user_tz": 180
    },
    "id": "ikwi6Zz5l0q0",
    "outputId": "f68a232d-b632-4926-beb5-43bb477733c1"
   },
   "outputs": [
    {
     "name": "stdout",
     "output_type": "stream",
     "text": [
      "Matriz Quadrada:\n",
      "Matriz 1:\n",
      "\n",
      "|  2.0   1.0  |\n",
      "|  5.0   3.0  |\n",
      "\n",
      "Traço da matriz 1:5.0\n",
      "\n",
      "Matriz 1 Transposta:\n",
      "\n",
      "|  2.0   5.0  |\n",
      "|  1.0   3.0  |\n",
      "\n",
      "Matriz 2:\n",
      "\n",
      "|  3.0   0.0  |\n",
      "|  7.0   5.0  |\n",
      "\n",
      "Traço da matriz 2:8.0\n",
      "\n",
      "Matrix 2 Transposta:\n",
      "\n",
      "|  3.0   7.0  |\n",
      "|  0.0   5.0  |\n",
      "\n",
      "\n",
      "Soma das matrizes: M1 + M2\n",
      "|  5.0   1.0  |\n",
      "| 12.0   8.0  |\n",
      "\n",
      "\n",
      "Diferença das matrizes: M1 - M2 \n",
      "| -1.0   1.0  |\n",
      "| -2.0  -2.0  |\n",
      "\n",
      "\n",
      "Diferença das matrizes: M2 - M1 \n",
      "|  1.0  -1.0  |\n",
      "|  2.0   2.0  |\n",
      "\n",
      "\n",
      "Produto das matrizes: M2*M1 \n",
      "|  6.0   3.0  |\n",
      "| 39.0  22.0  |\n",
      "\n",
      "\n",
      "Produto das matrizes: M1*M2 \n",
      "| 13.0   5.0  |\n",
      "| 36.0  15.0  |\n",
      "\n",
      "\n",
      "Produto por escalar: 2*M2\n",
      "|  6.0   0.0  |\n",
      "| 14.0  10.0  |\n",
      "\n",
      "\n",
      "Produto por escalar: 3*M1\n",
      "|  6.0   3.0  |\n",
      "| 15.0   9.0  |\n",
      "\n",
      "\n",
      "Matriz Triangular Superior:\n",
      "|  2.0   1.0   4.0  |\n",
      "|  0.0   3.0   2.0  |\n",
      "|  0.0   0.0   1.0  |\n",
      "\n"
     ]
    }
   ],
   "source": [
    "matriz_1 = np.array([array('d', [2, 1]), array('d', [5, 3])])\n",
    "matriz_2 = np.array([array('d', [3, 0]), array('d', [7, 5])])\n",
    "\n",
    "\n",
    "matriz_triang_superior = np.array([array('d', [2, 1, 4]), array('d', [0, 3, 2]), array('d', [0, 0, 1])])\n",
    "\n",
    "calc_matriz_1 = Quadrada(matriz_1)\n",
    "t_calc_matriz_1 = calc_matriz_1.transposta()\n",
    "\n",
    "calc_matriz_2 = Quadrada(matriz_2)\n",
    "t_calc_matriz_2 = calc_matriz_2.transposta()\n",
    "\n",
    "\n",
    "calc_triang_superior = TriangularSuperior(matriz_triang_superior)\n",
    "\n",
    "print(\"Matriz Quadrada:\")\n",
    "print(\"Matriz 1:\\n\")\n",
    "print(calc_matriz_1)\n",
    "print(f\"Traço da matriz 1:{calc_matriz_1.traco()}\\n\")\n",
    "print(\"Matriz 1 Transposta:\\n\")\n",
    "print(t_calc_matriz_1)\n",
    "\n",
    "\n",
    "print(\"Matriz 2:\\n\")\n",
    "print(calc_matriz_2)\n",
    "print(f\"Traço da matriz 2:{calc_matriz_2.traco()}\\n\")\n",
    "print(\"Matrix 2 Transposta:\\n\")\n",
    "print(t_calc_matriz_2)\n",
    "\n",
    "\n",
    "\n",
    "Soma = calc_matriz_1 + calc_matriz_2\n",
    "Sub1 = calc_matriz_1 - calc_matriz_2\n",
    "Sub2 = calc_matriz_2 - calc_matriz_1\n",
    "prod1 = calc_matriz_2 * calc_matriz_1\n",
    "prod2 = calc_matriz_1 * calc_matriz_2\n",
    "prod_esc1 = 3*calc_matriz_1\n",
    "prod_esc2 = 2*calc_matriz_2\n",
    "\n",
    "print(\"\\nSoma das matrizes: M1 + M2\")\n",
    "print(Soma)\n",
    "print(\"\\nDiferença das matrizes: M1 - M2 \")\n",
    "print(Sub1)\n",
    "print(\"\\nDiferença das matrizes: M2 - M1 \")\n",
    "print(Sub2)\n",
    "print(\"\\nProduto das matrizes: M2*M1 \")\n",
    "print(prod1)\n",
    "print(\"\\nProduto das matrizes: M1*M2 \")\n",
    "print(prod2)\n",
    "print(\"\\nProduto por escalar: 2*M2\")\n",
    "print(prod_esc2)\n",
    "print(\"\\nProduto por escalar: 3*M1\")\n",
    "print(prod_esc1)\n",
    "\n",
    "\n",
    "print(\"\\nMatriz Triangular Superior:\")\n",
    "print(calc_triang_superior)\n"
   ]
  }
 ],
 "metadata": {
  "colab": {
   "authorship_tag": "ABX9TyPK911BCnFj3Uj40Lsb7a98",
   "provenance": []
  },
  "kernelspec": {
   "display_name": "Python 3 (ipykernel)",
   "language": "python",
   "name": "python3"
  },
  "language_info": {
   "codemirror_mode": {
    "name": "ipython",
    "version": 3
   },
   "file_extension": ".py",
   "mimetype": "text/x-python",
   "name": "python",
   "nbconvert_exporter": "python",
   "pygments_lexer": "ipython3",
   "version": "3.9.16"
  }
 },
 "nbformat": 4,
 "nbformat_minor": 1
}
